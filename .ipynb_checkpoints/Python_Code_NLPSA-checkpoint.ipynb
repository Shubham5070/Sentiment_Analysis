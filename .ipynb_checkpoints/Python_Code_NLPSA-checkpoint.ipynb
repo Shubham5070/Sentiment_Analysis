{
 "cells": [
  {
   "cell_type": "markdown",
   "metadata": {},
   "source": [
    "# Sentiment Analysis of Amazon Customer Reviews\n",
    "#### by Qiang (Jesse) Zhen"
   ]
  },
  {
   "cell_type": "markdown",
   "metadata": {},
   "source": [
    "One of the hot-trend topics in Natural Language Processing (NLP) is sentiment analysis. Sentiment analysis involves extraction of subjective information from documents like posts and reviews to determine the opinion with respect to products, service, events, or ideas.\n",
    "\n",
    "This project uses the customer review data from Amazon.com to perform a supervised binary (positive or negative) sentiment classification analysis. We use various data pre-processing techniques and demonstrate their effectiveness in improving the classification. We also compare three machine learning models, namely, the multinomial Naive Bayes classification model (MultinomialNB), the Logistic regression model (LogisticRegression), and the linear support vector classification model (LinearSVC).  \n",
    "\n",
    "The result of the analysis shows that adding negation handling and n-grams modeling techniques into data preprocessing can significantly increase the model accuracy. The result also indicates that SVC model provides the best prediction accuracy. "
   ]
  },
  {
   "cell_type": "markdown",
   "metadata": {},
   "source": [
    "**Table of Contents**\n",
    "\n",
    "* <a href='#1'>1. Data Understanding</a>\n",
    "    * <a href='#1.1'>1.1 Import modulus</a>\n",
    "    * <a href='#1.2'>1.2 Load data</a>\n",
    "    * <a href='#1.3'>1.3 Generate the sentiment label<a/>\n",
    "    * <a href='#1.4'>1.4 Select the required columns</a>\n",
    "\n",
    "\n",
    "* <a href='#2'>2. Data Preparation</a>\n",
    "    * <a href='#2.1'>2.1 Under-sampling<a/>\n",
    "    * <a href='#2.2'>2.2 Data preprocessing</a>\n",
    "    * <a href='#2.3'>2.3 Split dataset to training, validation, and test sets</a>\n",
    "\n",
    "\n",
    "* <a href='#3'>3. Feature Extraction</a>\n",
    "    * <a href='#3.1'>3.1 Compute the frequency of words</a>\n",
    "    * <a href='#3.2'>3.2 Vectorizer and Tf–idf term weighting</a>\n",
    "    * <a href='#3.3'>3.3 Feature Extraction</a>\n",
    "\n",
    "\n",
    "* <a href='#4'>4. Basic Modeling</a>\n",
    "    * <a href='#4.1'>4.1 Multinomial Naive Bayes classification model (MultinomialNB)</a>\n",
    "    * <a href='#4.2'>4.2 Logistic clssification model (LogisticRegression)</a>\n",
    "    * <a href='#4.3'>4.3 Linear support vector classification model (LinearSVC)</a>\n",
    "\n",
    "\n",
    "* <a href='#5'>5. Fine-tuning the Number of Features</a>\n",
    "    * <a href='#5.1'>5.1 Define the training function\n",
    "    * <a href='#5.2'>5.2 Fine-tuning MultinomialNB</a>\n",
    "    * <a href='#5.3'>5.3 Fine-tuning LogisticRegression</a>\n",
    "    * <a href='#5.4'>5.4 Fine-tuning LinearSVC</a>\n",
    "    * <a href='#5.5'>5.5 Summary of the three models</a>\n",
    "\n",
    "\n",
    "* <a href='#6'>6. Grid Search for Parameter Tuning</a>    \n",
    "    * <a href='#6.1'>6.1 Grid search on MultinomialNB</a>\n",
    "    * <a href='#6.2'>6.2 Grid search on LogisticRegression</a>\n",
    "    * <a href='#6.3'>6.3 Grid search on LinearSVC</a>\n",
    "\n",
    "\n",
    "* <a href='#7'>7. Model Accuracy on the Test Set</a> \n",
    "    * <a href='#7.1'>7.1 MultinomialNB model accuracy</a>\n",
    "    * <a href='#7.2'>7.2 LogisticRegression model accuracy</a>\n",
    "    * <a href='#7.3'>7.3 LinearSVC model accuracy</a>\n",
    "\n",
    "\n",
    "* <a href='#8'>8. Prediction on New Entries</a> \n",
    "\n",
    "\n",
    "* <a href='#9'>9. Model Output</a> \n",
    "\n",
    "\n",
    "* <a href='#10'>10. Web Application</a> \n",
    "\n",
    "\n",
    "* <a href='#11'>11. Ending Discussion</a> \n"
   ]
  },
  {
   "cell_type": "markdown",
   "metadata": {},
   "source": [
    "<a id='1'></a>\n",
    "## 1. Data Understanding"
   ]
  },
  {
   "cell_type": "markdown",
   "metadata": {},
   "source": [
    "<a id='1.1'></a>\n",
    "### 1.1 Import modulus"
   ]
  },
  {
   "cell_type": "code",
   "execution_count": 1,
   "metadata": {},
   "outputs": [],
   "source": [
    "# user definded function to indicate processing progress\n",
    "import my_utils\n",
    "\n",
    "import html\n",
    "import time\n",
    "import functools\n",
    "import pandas as pd\n",
    "import numpy as np\n",
    "import nltk\n",
    "from nltk.corpus import stopwords as sw\n",
    "import string\n",
    "import matplotlib.pyplot as plt\n",
    "%matplotlib inline\n",
    "\n",
    "from sklearn.feature_extraction.text import CountVectorizer, TfidfTransformer, TfidfVectorizer\n",
    "from sklearn.model_selection import train_test_split\n",
    "from sklearn import metrics\n",
    "from sklearn.naive_bayes import MultinomialNB\n",
    "from sklearn.svm import LinearSVC\n",
    "from sklearn.linear_model import LogisticRegression\n",
    "\n",
    "import pickle"
   ]
  },
  {
   "cell_type": "markdown",
   "metadata": {},
   "source": [
    "<a id='1.2'></a>\n",
    "### 1.2 Load data"
   ]
  },
  {
   "cell_type": "markdown",
   "metadata": {},
   "source": [
    "The data comes from the website \"Amazon product data\" managed by Dr. Julian McAuley from UCSD. We choose the smaller subset of the customer review data from the Kindle store of Amazon.com. The data is in the JSON format, which contains 982,619 reviews and metadata spanning May 1996 - July 2014.\n",
    "\n",
    "* Data source: Amazon product data, by Julian McAuley, UCSD\n",
    "    + http://jmcauley.ucsd.edu/data/amazon/\n",
    "* The kindle store review data from Amazon is used in this project\n",
    "     + http://snap.stanford.edu/data/amazon/productGraph/categoryFiles/reviews_Kindle_Store_5.json.gz"
   ]
  },
  {
   "cell_type": "code",
   "execution_count": 2,
   "metadata": {},
   "outputs": [],
   "source": [
    "import json\n",
    "data = pd.read_json('Kindle_Store_5.json', lines=True)"
   ]
  },
  {
   "cell_type": "code",
   "execution_count": 3,
   "metadata": {},
   "outputs": [
    {
     "data": {
      "text/html": [
       "<div>\n",
       "<style scoped>\n",
       "    .dataframe tbody tr th:only-of-type {\n",
       "        vertical-align: middle;\n",
       "    }\n",
       "\n",
       "    .dataframe tbody tr th {\n",
       "        vertical-align: top;\n",
       "    }\n",
       "\n",
       "    .dataframe thead th {\n",
       "        text-align: right;\n",
       "    }\n",
       "</style>\n",
       "<table border=\"1\" class=\"dataframe\">\n",
       "  <thead>\n",
       "    <tr style=\"text-align: right;\">\n",
       "      <th></th>\n",
       "      <th>asin</th>\n",
       "      <th>helpful</th>\n",
       "      <th>overall</th>\n",
       "      <th>reviewText</th>\n",
       "      <th>reviewTime</th>\n",
       "      <th>reviewerID</th>\n",
       "      <th>reviewerName</th>\n",
       "      <th>summary</th>\n",
       "      <th>unixReviewTime</th>\n",
       "    </tr>\n",
       "  </thead>\n",
       "  <tbody>\n",
       "    <tr>\n",
       "      <th>0</th>\n",
       "      <td>B000F83SZQ</td>\n",
       "      <td>[0, 0]</td>\n",
       "      <td>5</td>\n",
       "      <td>I enjoy vintage books and movies so I enjoyed ...</td>\n",
       "      <td>05 5, 2014</td>\n",
       "      <td>A1F6404F1VG29J</td>\n",
       "      <td>Avidreader</td>\n",
       "      <td>Nice vintage story</td>\n",
       "      <td>1399248000</td>\n",
       "    </tr>\n",
       "    <tr>\n",
       "      <th>1</th>\n",
       "      <td>B000F83SZQ</td>\n",
       "      <td>[2, 2]</td>\n",
       "      <td>4</td>\n",
       "      <td>This book is a reissue of an old one; the auth...</td>\n",
       "      <td>01 6, 2014</td>\n",
       "      <td>AN0N05A9LIJEQ</td>\n",
       "      <td>critters</td>\n",
       "      <td>Different...</td>\n",
       "      <td>1388966400</td>\n",
       "    </tr>\n",
       "    <tr>\n",
       "      <th>2</th>\n",
       "      <td>B000F83SZQ</td>\n",
       "      <td>[2, 2]</td>\n",
       "      <td>4</td>\n",
       "      <td>This was a fairly interesting read.  It had ol...</td>\n",
       "      <td>04 4, 2014</td>\n",
       "      <td>A795DMNCJILA6</td>\n",
       "      <td>dot</td>\n",
       "      <td>Oldie</td>\n",
       "      <td>1396569600</td>\n",
       "    </tr>\n",
       "    <tr>\n",
       "      <th>3</th>\n",
       "      <td>B000F83SZQ</td>\n",
       "      <td>[1, 1]</td>\n",
       "      <td>5</td>\n",
       "      <td>I'd never read any of the Amy Brewster mysteri...</td>\n",
       "      <td>02 19, 2014</td>\n",
       "      <td>A1FV0SX13TWVXQ</td>\n",
       "      <td>Elaine H. Turley \"Montana Songbird\"</td>\n",
       "      <td>I really liked it.</td>\n",
       "      <td>1392768000</td>\n",
       "    </tr>\n",
       "    <tr>\n",
       "      <th>4</th>\n",
       "      <td>B000F83SZQ</td>\n",
       "      <td>[0, 1]</td>\n",
       "      <td>4</td>\n",
       "      <td>If you like period pieces - clothing, lingo, y...</td>\n",
       "      <td>03 19, 2014</td>\n",
       "      <td>A3SPTOKDG7WBLN</td>\n",
       "      <td>Father Dowling Fan</td>\n",
       "      <td>Period Mystery</td>\n",
       "      <td>1395187200</td>\n",
       "    </tr>\n",
       "  </tbody>\n",
       "</table>\n",
       "</div>"
      ],
      "text/plain": [
       "         asin helpful  overall  \\\n",
       "0  B000F83SZQ  [0, 0]        5   \n",
       "1  B000F83SZQ  [2, 2]        4   \n",
       "2  B000F83SZQ  [2, 2]        4   \n",
       "3  B000F83SZQ  [1, 1]        5   \n",
       "4  B000F83SZQ  [0, 1]        4   \n",
       "\n",
       "                                          reviewText   reviewTime  \\\n",
       "0  I enjoy vintage books and movies so I enjoyed ...   05 5, 2014   \n",
       "1  This book is a reissue of an old one; the auth...   01 6, 2014   \n",
       "2  This was a fairly interesting read.  It had ol...   04 4, 2014   \n",
       "3  I'd never read any of the Amy Brewster mysteri...  02 19, 2014   \n",
       "4  If you like period pieces - clothing, lingo, y...  03 19, 2014   \n",
       "\n",
       "       reviewerID                         reviewerName             summary  \\\n",
       "0  A1F6404F1VG29J                           Avidreader  Nice vintage story   \n",
       "1   AN0N05A9LIJEQ                             critters        Different...   \n",
       "2   A795DMNCJILA6                                  dot               Oldie   \n",
       "3  A1FV0SX13TWVXQ  Elaine H. Turley \"Montana Songbird\"  I really liked it.   \n",
       "4  A3SPTOKDG7WBLN                   Father Dowling Fan      Period Mystery   \n",
       "\n",
       "   unixReviewTime  \n",
       "0      1399248000  \n",
       "1      1388966400  \n",
       "2      1396569600  \n",
       "3      1392768000  \n",
       "4      1395187200  "
      ]
     },
     "execution_count": 3,
     "metadata": {},
     "output_type": "execute_result"
    }
   ],
   "source": [
    "data.head()"
   ]
  },
  {
   "cell_type": "markdown",
   "metadata": {},
   "source": [
    "<a id='1.3'></a>\n",
    "### 1.3 Generate the sentiment label"
   ]
  },
  {
   "cell_type": "markdown",
   "metadata": {},
   "source": [
    "Reviews with overall rating of 1, 2, or 3 are labeled as negative (\"neg\"), and reviews with overall rating of 4 or 5 are labeled as positive (\"pos\"). \n",
    "\n",
    "* Make a new column named 'pos_neg':\n",
    "    + pos_neg = 'neg' when overall=1, 2 ,or 3,\n",
    "    + pos_neg = 'pos' when overall=4 or 5"
   ]
  },
  {
   "cell_type": "code",
   "execution_count": 4,
   "metadata": {},
   "outputs": [
    {
     "data": {
      "text/plain": [
       "array(['asin', 'helpful', 'overall', 'reviewText', 'reviewTime',\n",
       "       'reviewerID', 'reviewerName', 'summary', 'unixReviewTime'], dtype=object)"
      ]
     },
     "execution_count": 4,
     "metadata": {},
     "output_type": "execute_result"
    }
   ],
   "source": [
    "data.columns.values"
   ]
  },
  {
   "cell_type": "code",
   "execution_count": 5,
   "metadata": {},
   "outputs": [],
   "source": [
    "# Make a new column named 'pos_neg', which has value 'neg' if the overall rating is 1, 2 ,or 3, \n",
    "# and has value 'pos' of the overall rating is 4 or 5. \n",
    "data.loc[data.overall.isin([1,2,3]), 'pos_neg'] = 'neg'\n",
    "data.loc[data.overall.isin([4,5]), 'pos_neg'] = 'pos'"
   ]
  },
  {
   "cell_type": "markdown",
   "metadata": {},
   "source": [
    "<a id='1.4'></a>\n",
    "### 1.4 Select the required columns"
   ]
  },
  {
   "cell_type": "markdown",
   "metadata": {},
   "source": [
    "* Choose only the columns 'pop_neg' and 'reviewText'"
   ]
  },
  {
   "cell_type": "code",
   "execution_count": 6,
   "metadata": {},
   "outputs": [],
   "source": [
    "# Choose only the columns 'pop_neg' and 'reviewText'\n",
    "df = data[['pos_neg', 'reviewText']]"
   ]
  },
  {
   "cell_type": "code",
   "execution_count": 7,
   "metadata": {},
   "outputs": [
    {
     "data": {
      "text/html": [
       "<div>\n",
       "<style scoped>\n",
       "    .dataframe tbody tr th:only-of-type {\n",
       "        vertical-align: middle;\n",
       "    }\n",
       "\n",
       "    .dataframe tbody tr th {\n",
       "        vertical-align: top;\n",
       "    }\n",
       "\n",
       "    .dataframe thead th {\n",
       "        text-align: right;\n",
       "    }\n",
       "</style>\n",
       "<table border=\"1\" class=\"dataframe\">\n",
       "  <thead>\n",
       "    <tr style=\"text-align: right;\">\n",
       "      <th></th>\n",
       "      <th>pos_neg</th>\n",
       "      <th>reviewText</th>\n",
       "    </tr>\n",
       "  </thead>\n",
       "  <tbody>\n",
       "    <tr>\n",
       "      <th>0</th>\n",
       "      <td>pos</td>\n",
       "      <td>I enjoy vintage books and movies so I enjoyed ...</td>\n",
       "    </tr>\n",
       "    <tr>\n",
       "      <th>1</th>\n",
       "      <td>pos</td>\n",
       "      <td>This book is a reissue of an old one; the auth...</td>\n",
       "    </tr>\n",
       "    <tr>\n",
       "      <th>2</th>\n",
       "      <td>pos</td>\n",
       "      <td>This was a fairly interesting read.  It had ol...</td>\n",
       "    </tr>\n",
       "    <tr>\n",
       "      <th>3</th>\n",
       "      <td>pos</td>\n",
       "      <td>I'd never read any of the Amy Brewster mysteri...</td>\n",
       "    </tr>\n",
       "    <tr>\n",
       "      <th>4</th>\n",
       "      <td>pos</td>\n",
       "      <td>If you like period pieces - clothing, lingo, y...</td>\n",
       "    </tr>\n",
       "  </tbody>\n",
       "</table>\n",
       "</div>"
      ],
      "text/plain": [
       "  pos_neg                                         reviewText\n",
       "0     pos  I enjoy vintage books and movies so I enjoyed ...\n",
       "1     pos  This book is a reissue of an old one; the auth...\n",
       "2     pos  This was a fairly interesting read.  It had ol...\n",
       "3     pos  I'd never read any of the Amy Brewster mysteri...\n",
       "4     pos  If you like period pieces - clothing, lingo, y..."
      ]
     },
     "execution_count": 7,
     "metadata": {},
     "output_type": "execute_result"
    }
   ],
   "source": [
    "df.head()"
   ]
  },
  {
   "cell_type": "markdown",
   "metadata": {},
   "source": [
    "<a id='2'></a>\n",
    "## 2. Data Preparation"
   ]
  },
  {
   "cell_type": "markdown",
   "metadata": {},
   "source": [
    "<a id='2.1'></a>\n",
    "### 2.1 Under-sampling"
   ]
  },
  {
   "cell_type": "markdown",
   "metadata": {},
   "source": [
    "Since the dataset is imbalanced that more than 84% of the reviews are positive, we undersample the positive reviews (the majority class) to have exactly the same number of reviews as in the negative ones."
   ]
  },
  {
   "cell_type": "code",
   "execution_count": 8,
   "metadata": {},
   "outputs": [
    {
     "data": {
      "text/plain": [
       "pos_neg       0\n",
       "reviewText    0\n",
       "dtype: int64"
      ]
     },
     "execution_count": 8,
     "metadata": {},
     "output_type": "execute_result"
    }
   ],
   "source": [
    "# Check whethere there is any missing data\n",
    "df.isnull().sum()  "
   ]
  },
  {
   "cell_type": "code",
   "execution_count": 9,
   "metadata": {},
   "outputs": [
    {
     "data": {
      "text/plain": [
       "(982619, 10)"
      ]
     },
     "execution_count": 9,
     "metadata": {},
     "output_type": "execute_result"
    }
   ],
   "source": [
    "data.shape"
   ]
  },
  {
   "cell_type": "code",
   "execution_count": 14,
   "metadata": {
    "scrolled": true
   },
   "outputs": [
    {
     "data": {
      "text/plain": [
       "pos    829277\n",
       "neg    153342\n",
       "Name: pos_neg, dtype: int64"
      ]
     },
     "execution_count": 14,
     "metadata": {},
     "output_type": "execute_result"
    }
   ],
   "source": [
    "# Check the distribution of the positive and negative reviews\n",
    "df.pos_neg.value_counts()"
   ]
  },
  {
   "cell_type": "code",
   "execution_count": 11,
   "metadata": {},
   "outputs": [],
   "source": [
    "# Sample positive reveiws to get a balanced dataset\n",
    "neg = df.loc[df.pos_neg=='neg']\n",
    "pos = df.loc[df.pos_neg=='pos'].sample(n=df.pos_neg.value_counts()['neg'], random_state=42)"
   ]
  },
  {
   "cell_type": "code",
   "execution_count": 13,
   "metadata": {
    "scrolled": true
   },
   "outputs": [
    {
     "name": "stdout",
     "output_type": "stream",
     "text": [
      "<class 'pandas.core.frame.DataFrame'>\n",
      "pos: 153342 , neg: 153342\n"
     ]
    }
   ],
   "source": [
    "print(type(pos))\n",
    "print(\"pos:\", len(pos), \", neg:\", len(neg))"
   ]
  },
  {
   "cell_type": "markdown",
   "metadata": {},
   "source": [
    "<a id='2.2'></a>\n",
    "### 2.2 Data preprocessing"
   ]
  },
  {
   "cell_type": "markdown",
   "metadata": {},
   "source": [
    "Data preprocessing process uses the following steps:\n",
    "\n",
    "* Use HTMLParser to un-escape the text\n",
    "* Change \"can't\" to \"can not\", and change \"n't\" to \"not\" (This is useful for the negation handling process)\n",
    "* Pad punctuations with blanks\n",
    "  * Note: if choosing not to perform negation handling, then directly remove punctuations\n",
    "* Word normalization: lowercase every word\n",
    "* Word tokenization\n",
    "* Perform **negation handling**\n",
    "  * A major problem faced during sentiment analysis is to handle negations.\n",
    "  * The algorithm used here comes from Narayanan, Arora, and Bhatia's paper \"*Fast and accurate sentiment classification using an\n",
    "enhanced Naive Bayes model*\" [(link)](https://arxiv.org/abs/1305.6143)\n",
    "  * The algorithm:\n",
    "    * Use a state variable to store the negation state\n",
    "    * Transform a word followed by a \"not\" or \"no\" into “not_” + word\n",
    "    * Whenever the negation state variable is set, the words read are treated as “not_” + word\n",
    "    * The state variable is reset when a punctuation mark is encountered or when there is double negation\n",
    "* Use **bigram** and/or **trigram** models\n",
    "  * Information about sentiment is often conveyed by adjectives ore more specifically by certain combinations of adjectives. \n",
    "  * This information can be captured by adding features like consecutive pairs of words (bigrams) or even triplets of words (trigrams).\n",
    "* Remove stopwords (optional)\n",
    "* Word lemmatization"
   ]
  },
  {
   "cell_type": "markdown",
   "metadata": {},
   "source": [
    "#### 2.2.1 Define the preprocessing function"
   ]
  },
  {
   "cell_type": "code",
   "execution_count": 15,
   "metadata": {},
   "outputs": [],
   "source": [
    "lemmatizer = nltk.WordNetLemmatizer()\n",
    "stopwords = sw.words('english')\n",
    "stopwords = stopwords + ['not_' + w for w in stopwords]\n",
    "\n",
    "# transform punctuation to blanks\n",
    "trans_punct = str.maketrans(string.punctuation,' '*len(string.punctuation)) \n",
    "\n",
    "# pad punctuation with blanks\n",
    "pad_punct = str.maketrans({key: \" {0} \".format(key) for key in string.punctuation}) \n",
    "# remove \"_\" from string.punctuation\n",
    "invalidChars = str(string.punctuation.replace(\"_\", \"\"))  "
   ]
  },
  {
   "cell_type": "code",
   "execution_count": 18,
   "metadata": {},
   "outputs": [],
   "source": [
    "def preprocessing(line, ngram=1, neg_handling=True, remove_stop=False):\n",
    "    \"\"\"\n",
    "    Preprocessing the review texts\n",
    "    @params:\n",
    "        line                       - Required: the input text (Str)\n",
    "        ngram                  - Optional: number n in the n-gram model(Int, 1, 2, or 3)\n",
    "        neg_handling       - Optional: whether to perform negation handling (Boolean)\n",
    "        remove_stop        -Optional: whether to remove the stop words (Boolean)\n",
    "    \"\"\"\n",
    "        \n",
    "    line = html.unescape(str(line))\n",
    "    line = str(line).replace(\"can't\", \"can not\")\n",
    "    line = str(line).replace(\"n't\", \" not\")\n",
    "    \n",
    "    if neg_handling:\n",
    "        line = str(line).translate(pad_punct)  # If performing negation handling, pad punctuations with blanks\n",
    "        line = nltk.word_tokenize(line.lower()) # Word normalization and tokenization\n",
    "        tokens = []\n",
    "        negated = False\n",
    "        for t in line:\n",
    "            if t in ['not', 'no']:\n",
    "                negated = not negated\n",
    "            elif t in string.punctuation or not t.isalpha():\n",
    "                negated = False\n",
    "            else:\n",
    "                tokens.append('not_' + t if negated else t)  # add \"not_\" prefix to words behind \"not\", or \"no\"     \n",
    "    else:\n",
    "        line = str(line).translate(trans_punct)  # If not performing negation handling, remove punctuations\n",
    "        line = nltk.word_tokenize(line.lower()) # Word normalization and tokenization\n",
    "        tokens = line\n",
    "    \n",
    "    if ngram==2:\n",
    "        bi_tokens = list(nltk.bigrams(line))\n",
    "        bi_tokens = list(map('_'.join, bi_tokens))\n",
    "        bi_tokens = [i for i in bi_tokens if all(j not in invalidChars for j in i)]\n",
    "        tokens = tokens + bi_tokens\n",
    "\n",
    "    if ngram==3:\n",
    "        bi_tokens = list(nltk.bigrams(line))\n",
    "        bi_tokens = list(map('_'.join, bi_tokens))\n",
    "        bi_tokens = [i for i in bi_tokens if all(j not in invalidChars for j in i)]\n",
    "        tri_tokens = list(nltk.trigrams(line))\n",
    "        tri_tokens = list(map('_'.join, tri_tokens))\n",
    "        tri_tokens = [i for i in tri_tokens if all(j not in invalidChars for j in i)]\n",
    "        tokens = tokens + bi_tokens + tri_tokens    \n",
    "     \n",
    "    if remove_stop:\n",
    "        line = [lemmatizer.lemmatize(t) for t in tokens if t not in stopwords]\n",
    "    else:\n",
    "        line = [lemmatizer.lemmatize(t) for t in tokens] \n",
    "    \n",
    "    return ' '.join(line)"
   ]
  },
  {
   "cell_type": "markdown",
   "metadata": {},
   "source": [
    "#### 2.2.2 An example"
   ]
  },
  {
   "cell_type": "code",
   "execution_count": 30,
   "metadata": {},
   "outputs": [],
   "source": [
    "line = \"I don't think this book has any decent information!!! It is full of typos and factual errors that I can't ignore.\""
   ]
  },
  {
   "cell_type": "code",
   "execution_count": 32,
   "metadata": {},
   "outputs": [
    {
     "data": {
      "text/plain": [
       "'i do not think this book ha any decent information it is full of typo and factual error that i can not ignore'"
      ]
     },
     "execution_count": 32,
     "metadata": {},
     "output_type": "execute_result"
    }
   ],
   "source": [
    "preprocessing(line, ngram=1, neg_handling=False, remove_stop=False)"
   ]
  },
  {
   "cell_type": "code",
   "execution_count": 33,
   "metadata": {},
   "outputs": [
    {
     "data": {
      "text/plain": [
       "'think book decent information full typo factual error ignore'"
      ]
     },
     "execution_count": 33,
     "metadata": {},
     "output_type": "execute_result"
    }
   ],
   "source": [
    "preprocessing(line, ngram=1, neg_handling=False, remove_stop=True)"
   ]
  },
  {
   "cell_type": "code",
   "execution_count": 34,
   "metadata": {},
   "outputs": [
    {
     "data": {
      "text/plain": [
       "'i do not_think not_this not_book not_has not_any not_decent not_information it is full of typo and factual error that i can not_ignore'"
      ]
     },
     "execution_count": 34,
     "metadata": {},
     "output_type": "execute_result"
    }
   ],
   "source": [
    "preprocessing(line, ngram=1, neg_handling=True, remove_stop=False)"
   ]
  },
  {
   "cell_type": "code",
   "execution_count": 35,
   "metadata": {},
   "outputs": [
    {
     "data": {
      "text/plain": [
       "'i do not_think not_this not_book not_has not_any not_decent not_information it is full of typo and factual error that i can not_ignore i_do do_not not_think think_this this_book book_has has_any any_decent decent_information it_is is_full full_of of_typos typos_and and_factual factual_errors errors_that that_i i_can can_not not_ignore i_do_not do_not_think not_think_this think_this_book this_book_has book_has_any has_any_decent any_decent_information it_is_full is_full_of full_of_typos of_typos_and typos_and_factual and_factual_errors factual_errors_that errors_that_i that_i_can i_can_not can_not_ignore'"
      ]
     },
     "execution_count": 35,
     "metadata": {},
     "output_type": "execute_result"
    }
   ],
   "source": [
    "preprocessing(line, ngram=3, neg_handling=True, remove_stop=False)"
   ]
  },
  {
   "cell_type": "markdown",
   "metadata": {},
   "source": [
    "#### 2.2.3 Preproessing the data"
   ]
  },
  {
   "cell_type": "markdown",
   "metadata": {},
   "source": [
    "* Perform data preprocessing with negation handling, tri-gram modeling, without removing the stop words"
   ]
  },
  {
   "cell_type": "code",
   "execution_count": 17,
   "metadata": {},
   "outputs": [
    {
     "name": "stdout",
     "output_type": "stream",
     "text": [
      "Preprocessing pos data:  |==================================================| 100% \n"
     ]
    }
   ],
   "source": [
    "# Preprocessing the positive reveiws\n",
    "pos_data = []\n",
    "n_pos = len(pos)\n",
    "for i, p in enumerate(pos['reviewText']):\n",
    "    pos_data.append(preprocessing(p, ngram=3))\n",
    "    my_utils.print_progress(bar_length=50, decimals=0, iteration=i+1, total=n_pos, prefix='Preprocessing pos data: ')"
   ]
  },
  {
   "cell_type": "code",
   "execution_count": 18,
   "metadata": {},
   "outputs": [
    {
     "name": "stdout",
     "output_type": "stream",
     "text": [
      "Preprocessing neg data:  |==================================================| 100% \n"
     ]
    }
   ],
   "source": [
    "# Preprocessing the negative reveiws\n",
    "neg_data = []\n",
    "n_neg = len(neg)\n",
    "for i, n in enumerate(neg['reviewText']):\n",
    "    neg_data.append(preprocessing(n, ngram=3))\n",
    "    my_utils.print_progress(bar_length=50, decimals=0, iteration=i+1, total=n_neg, prefix='Preprocessing neg data: ')"
   ]
  },
  {
   "cell_type": "code",
   "execution_count": 21,
   "metadata": {},
   "outputs": [],
   "source": [
    "# Combine the preprocessed data\n",
    "data = pos_data + neg_data\n",
    "labels = np.concatenate((pos['pos_neg'].values, neg['pos_neg'].values))"
   ]
  },
  {
   "cell_type": "markdown",
   "metadata": {},
   "source": [
    "<a id='2.3'></a>\n",
    "### 2.3 Split dataset to training, validation, and test sets"
   ]
  },
  {
   "cell_type": "markdown",
   "metadata": {},
   "source": [
    "We split the whole dataset randomly to the training set, validation set, and testing set by the proportion of 60%, 20%, and 20% respectively."
   ]
  },
  {
   "cell_type": "code",
   "execution_count": 25,
   "metadata": {},
   "outputs": [
    {
     "name": "stdout",
     "output_type": "stream",
     "text": [
      "training size =  184010 validation size =  61337 testing size =  61337\n"
     ]
    }
   ],
   "source": [
    "# split the dataset to training, validation, test sets by 60-20-20\n",
    "train_data, rest_data, train_labels, rest_labels = train_test_split(data, labels, test_size=0.4, \n",
    "                                                                    stratify=labels, random_state=1234)\n",
    "valid_data, test_data, valid_labels, test_labels = train_test_split(rest_data, rest_labels, test_size=0.5, \n",
    "                                                                    stratify=rest_labels, random_state=1234)\n",
    "print(\"training size = \", len(train_data), \"validation size = \", len(valid_data), \"testing size = \", len(test_data))"
   ]
  },
  {
   "cell_type": "markdown",
   "metadata": {},
   "source": [
    "<a id='3'></a>\n",
    "## 3. Feature Extraction"
   ]
  },
  {
   "cell_type": "markdown",
   "metadata": {},
   "source": [
    "We use vectorization process to turn the collection of text documents into numerical feature vectors. To extract numerical features from text content, we use the **Bag of Words** strategy:\n",
    "\n",
    "* **tokenizing** strings and giving an integer id for each possible token, by using white-spaces as token separators\n",
    "* **counting** the occurrences of tokens in each document\n",
    "* **normalizing** and **tf-idf weighting** with diminishing importance tokens that occur in the majority of documents\n",
    "\n",
    "A corpus of documents can thus be represented by a matrix with one row per document and one column per token (e.g. word) occurring in the corpus, while completely ignoring the relative position information of the words in the document."
   ]
  },
  {
   "cell_type": "markdown",
   "metadata": {},
   "source": [
    "<a id='3.1'></a>\n",
    "### 3.1 Compute the frequency of words"
   ]
  },
  {
   "cell_type": "code",
   "execution_count": 26,
   "metadata": {},
   "outputs": [],
   "source": [
    "# Push all tokens and compute the frequency of words\n",
    "tokens = [word for line in train_data for word in nltk.word_tokenize(line)]\n",
    "word_features = nltk.FreqDist(tokens)"
   ]
  },
  {
   "cell_type": "code",
   "execution_count": 27,
   "metadata": {},
   "outputs": [
    {
     "name": "stdout",
     "output_type": "stream",
     "text": [
      "<FreqDist with 8128698 samples and 56232053 outcomes>\n"
     ]
    }
   ],
   "source": [
    "print(word_features)"
   ]
  },
  {
   "cell_type": "code",
   "execution_count": 28,
   "metadata": {},
   "outputs": [
    {
     "data": {
      "text/plain": [
       "[('the', 904966),\n",
       " ('a', 629222),\n",
       " ('and', 605310),\n",
       " ('i', 583304),\n",
       " ('to', 503199),\n",
       " ('is', 455444),\n",
       " ('of', 369937),\n",
       " ('it', 332547),\n",
       " ('this', 290662),\n",
       " ('wa', 271098)]"
      ]
     },
     "execution_count": 28,
     "metadata": {},
     "output_type": "execute_result"
    }
   ],
   "source": [
    "# Print the 10 most common words\n",
    "word_features.most_common(10)"
   ]
  },
  {
   "cell_type": "code",
   "execution_count": 134,
   "metadata": {},
   "outputs": [
    {
     "data": {
      "text/plain": [
       "2029001"
      ]
     },
     "execution_count": 134,
     "metadata": {},
     "output_type": "execute_result"
    }
   ],
   "source": [
    "# Remove features (words) which occur only once (This is to be used in the basic modeling process)\n",
    "topwords = [fpair[0] for fpair in list(word_features.most_common(len(word_features))) if fpair[1]>=2] \n",
    "len(topwords) "
   ]
  },
  {
   "cell_type": "markdown",
   "metadata": {},
   "source": [
    "<a id='3.2'></a>\n",
    "### 3.2 Vectorizer and Tf–idf term weighting"
   ]
  },
  {
   "cell_type": "code",
   "execution_count": 135,
   "metadata": {},
   "outputs": [
    {
     "data": {
      "text/plain": [
       "<1x2027753 sparse matrix of type '<class 'numpy.float64'>'\n",
       "\twith 2027753 stored elements in Compressed Sparse Row format>"
      ]
     },
     "execution_count": 135,
     "metadata": {},
     "output_type": "execute_result"
    }
   ],
   "source": [
    "# Convert a collection of raw documents to a matrix of TF-IDF features.\n",
    "# Equivalent to CountVectorizer followed by TfidfTransformer.\n",
    "tf_vec = TfidfVectorizer()\n",
    "\n",
    "tf_vec.fit_transform([' '.join(topwords)])"
   ]
  },
  {
   "cell_type": "markdown",
   "metadata": {},
   "source": [
    "<a id='3.3'></a>\n",
    "### 3.3 Feature Extraction"
   ]
  },
  {
   "cell_type": "code",
   "execution_count": 136,
   "metadata": {},
   "outputs": [],
   "source": [
    "# Extract features from training set\n",
    "# Vocabulary is from topwords\n",
    "train_features = tf_vec.transform(train_data)"
   ]
  },
  {
   "cell_type": "code",
   "execution_count": 137,
   "metadata": {},
   "outputs": [
    {
     "data": {
      "text/plain": [
       "(184010, 2027753)"
      ]
     },
     "execution_count": 137,
     "metadata": {},
     "output_type": "execute_result"
    }
   ],
   "source": [
    "# Array[n_train_data * n_features]\n",
    "train_features.shape"
   ]
  },
  {
   "cell_type": "code",
   "execution_count": 138,
   "metadata": {},
   "outputs": [],
   "source": [
    "# Extract features from test set\n",
    "test_features = tf_vec.transform(test_data)"
   ]
  },
  {
   "cell_type": "code",
   "execution_count": 139,
   "metadata": {},
   "outputs": [
    {
     "data": {
      "text/plain": [
       "(61337, 2027753)"
      ]
     },
     "execution_count": 139,
     "metadata": {},
     "output_type": "execute_result"
    }
   ],
   "source": [
    "test_features.shape"
   ]
  },
  {
   "cell_type": "markdown",
   "metadata": {},
   "source": [
    "<a id='4'></a>\n",
    "## 4. Basic Modeling"
   ]
  },
  {
   "cell_type": "markdown",
   "metadata": {},
   "source": [
    "Next we demonstrate the effectiveness of negation handling and n-gram modeling techniques, and compare three machine learning algorithms, namely, the multinomial Naive Bayes classification model (MultinomialNB), the Logistic regression model (LogisticRegression), and the linear support vector classification model (LinearSVC).  \n",
    "\n",
    "As a basic feature selection procedure, we remove features/tokens which occur only once to avoid over-fitting. We also use the default penalty parameter in each machine learning algorithm.  \n",
    "\n",
    "The following table illustrates the model accuracy on the testing dataset by using different preprocessing procedures and different machine learning algorithms:\n",
    "\n",
    "|Preprocessing procedure Added \t| Number of features/tokens | MultinomialNB  \t| LogisticRegression  \t| LinearSVC  \t|\n",
    "|---\t                    |---\t                    |---\t            |---\t                | ---           |\n",
    "|Basic preprocessing^       | 56,558                    | 0.8329  \t        | 0.8453   \t            | 0.8485     \t|\n",
    "|Adding negation handling   | 71,853                    | 0.8262         \t| 0.8519              \t| 0.8562     \t|\n",
    "|Adding bigrams and trigrams| 2,027,753                 | 0.8584         \t| 0.8675              \t| 0.8731     \t|\n",
    "\n",
    "^ *Basic preprocessing* procedures include procedures with uni-gram modeling but without negation handling. \n",
    "\n",
    "The above table clearly shows that adding negation handling and n-grams modeling techniques can significantly increase the model accuracy. The table also indicates that SVC model provides the best prediction accuracy. \n"
   ]
  },
  {
   "cell_type": "markdown",
   "metadata": {},
   "source": [
    "We omit the codes for model accuracy evaluation with basic preprocssing. In the rest of the code in this chapter, we perform the modeling processes based on the following data preprocessing and feature selection:\n",
    "\n",
    "* Data preprocessing:\n",
    "    * Negation handeling\n",
    "    * Tri-gram modeling\n",
    "    * Without removing stop words\n",
    "* Feature selection:\n",
    "    * Removing the features which occur only once \n",
    "    * The remaining number of features is 2,029,001 (out of the total 8,128,698 features)"
   ]
  },
  {
   "cell_type": "markdown",
   "metadata": {},
   "source": [
    "<a id='4.1'></a>\n",
    "### 4.1 Multinomial Naive Bayes classification model (MultinomialNB)"
   ]
  },
  {
   "cell_type": "code",
   "execution_count": 140,
   "metadata": {},
   "outputs": [
    {
     "data": {
      "text/plain": [
       "MultinomialNB(alpha=1.0, class_prior=None, fit_prior=True)"
      ]
     },
     "execution_count": 140,
     "metadata": {},
     "output_type": "execute_result"
    }
   ],
   "source": [
    "mnb_model = MultinomialNB()\n",
    "mnb_model"
   ]
  },
  {
   "cell_type": "code",
   "execution_count": 141,
   "metadata": {},
   "outputs": [
    {
     "data": {
      "text/plain": [
       "MultinomialNB(alpha=1.0, class_prior=None, fit_prior=True)"
      ]
     },
     "execution_count": 141,
     "metadata": {},
     "output_type": "execute_result"
    }
   ],
   "source": [
    "# Train Model\n",
    "mnb_model.fit(train_features, train_labels)"
   ]
  },
  {
   "cell_type": "code",
   "execution_count": 142,
   "metadata": {
    "scrolled": true
   },
   "outputs": [
    {
     "name": "stdout",
     "output_type": "stream",
     "text": [
      "['neg' 'pos' 'pos' ... 'neg' 'pos' 'neg']\n"
     ]
    }
   ],
   "source": [
    "# Predict\n",
    "pred = mnb_model.predict(test_features)\n",
    "print(pred)"
   ]
  },
  {
   "cell_type": "code",
   "execution_count": 143,
   "metadata": {},
   "outputs": [
    {
     "name": "stdout",
     "output_type": "stream",
     "text": [
      "0.8583889006635473\n"
     ]
    }
   ],
   "source": [
    "# Metrics\n",
    "accuracy = metrics.accuracy_score(test_labels, pred)\n",
    "print(accuracy)"
   ]
  },
  {
   "cell_type": "code",
   "execution_count": 144,
   "metadata": {},
   "outputs": [
    {
     "name": "stdout",
     "output_type": "stream",
     "text": [
      "             precision    recall  f1-score   support\n",
      "\n",
      "        neg     0.8560    0.8618    0.8589     30668\n",
      "        pos     0.8608    0.8550    0.8579     30669\n",
      "\n",
      "avg / total     0.8584    0.8584    0.8584     61337\n",
      "\n"
     ]
    }
   ],
   "source": [
    "print(metrics.classification_report(y_true=test_labels, y_pred=pred, digits=4))"
   ]
  },
  {
   "cell_type": "markdown",
   "metadata": {},
   "source": [
    "<a id='4.2'></a>\n",
    "### 4.2 Logistic regression model (LogisticRegression)"
   ]
  },
  {
   "cell_type": "code",
   "execution_count": 145,
   "metadata": {
    "scrolled": true
   },
   "outputs": [
    {
     "name": "stdout",
     "output_type": "stream",
     "text": [
      "LogisticRegression(C=1.0, class_weight=None, dual=False, fit_intercept=True,\n",
      "          intercept_scaling=1, max_iter=100, multi_class='ovr', n_jobs=1,\n",
      "          penalty='l2', random_state=None, solver='liblinear', tol=0.0001,\n",
      "          verbose=0, warm_start=False)\n",
      "\n",
      "Accuracy = 0.86749\n",
      "             precision    recall  f1-score   support\n",
      "\n",
      "        neg     0.8711    0.8626    0.8668     30668\n",
      "        pos     0.8639    0.8724    0.8681     30669\n",
      "\n",
      "avg / total     0.8675    0.8675    0.8675     61337\n",
      "\n"
     ]
    }
   ],
   "source": [
    "lgr_model = LogisticRegression()\n",
    "print(lgr_model, end='\\n'*2)\n",
    "\n",
    "\n",
    "lgr_model.fit(train_features, train_labels)\n",
    "lgr_pred = lgr_model.predict(test_features)\n",
    "\n",
    "print('Accuracy = %.5f' % metrics.accuracy_score(test_labels, lgr_pred))\n",
    "print(metrics.classification_report(y_pred=lgr_pred, y_true=test_labels, digits=4))"
   ]
  },
  {
   "cell_type": "markdown",
   "metadata": {},
   "source": [
    "<a id='4.3'></a>\n",
    "### 4.3 Linear support vector classification model (LinearSVC)"
   ]
  },
  {
   "cell_type": "code",
   "execution_count": 146,
   "metadata": {},
   "outputs": [
    {
     "name": "stdout",
     "output_type": "stream",
     "text": [
      "LinearSVC(C=1.0, class_weight=None, dual=True, fit_intercept=True,\n",
      "     intercept_scaling=1, loss='squared_hinge', max_iter=1000,\n",
      "     multi_class='ovr', penalty='l2', random_state=None, tol=0.0001,\n",
      "     verbose=0)\n",
      "\n",
      "Accuracy = 0.87314\n",
      "             precision    recall  f1-score   support\n",
      "\n",
      "        neg     0.8798    0.8644    0.8720     30668\n",
      "        pos     0.8667    0.8819    0.8742     30669\n",
      "\n",
      "avg / total     0.8733    0.8731    0.8731     61337\n",
      "\n"
     ]
    }
   ],
   "source": [
    "svc_model = LinearSVC()\n",
    "print(svc_model, end='\\n'*2)\n",
    "\n",
    "svc_model.fit(train_features, train_labels)\n",
    "svc_pred = svc_model.predict(test_features)\n",
    "\n",
    "print('Accuracy = %.5f' % metrics.accuracy_score(test_labels, svc_pred))\n",
    "print(metrics.classification_report(y_pred=svc_pred, y_true=test_labels, digits=4))"
   ]
  },
  {
   "cell_type": "markdown",
   "metadata": {},
   "source": [
    "<a id='5'></a>\n",
    "## 5. Fine-tuning the Number of Features"
   ]
  },
  {
   "cell_type": "markdown",
   "metadata": {},
   "source": [
    "The models trained in the above table come with a rather coarse feature selection procedure, that is, we simply remove features/tokens which occur only once.  \n",
    "\n",
    "To reach a better prediction power, we can fine-tune the number of features needed for each algorithm by using the validation dataset. Here we perform all of the preprocessing procedures, including negation handling and bigrams/trigrams modeling. "
   ]
  },
  {
   "cell_type": "markdown",
   "metadata": {},
   "source": [
    "<a id='5.1'></a>\n",
    "### 5.1 Define the training function"
   ]
  },
  {
   "cell_type": "code",
   "execution_count": 105,
   "metadata": {},
   "outputs": [],
   "source": [
    "def train_with_n_topwords(n, model_name='MultinomialNB', tfidf=True, valid=True, alpha=1.0):\n",
    "    \"\"\"\n",
    "    Training the dataset using selected model and settings\n",
    "    @params:\n",
    "        n                       - Required: the number of features used to train the model (Int)\n",
    "        model_name    - Optional: the model name('MultinomialNB' | 'LogisticRegression' | 'LinearSVC')\n",
    "        tfidf                  - Optional: whether to perform the tfidf transformation (Boolean)\n",
    "        valid                 - Optional: whether to use the validation set or the test set (Boolean)\n",
    "        alpha                - Optional: the penalty parameter in the training model (Float)\n",
    "    \"\"\"\n",
    "            \n",
    "    if model_name not in ['MultinomialNB', 'LinearSVC', 'LogisticRegression']:\n",
    "        print(\"Wrong model name.\")\n",
    "        return\n",
    "    \n",
    "    topwords = [fpair[0] for fpair in list(word_features.most_common(n))]\n",
    "    \n",
    "    if tfidf:\n",
    "        vec = TfidfVectorizer()\n",
    "    else:\n",
    "        vec = CountVectorizer()\n",
    "        \n",
    "    vec.fit_transform([' '.join(topwords)])\n",
    "    \n",
    "    # Model\n",
    "    if model_name == 'MultinomialNB':\n",
    "        model = MultinomialNB(alpha=alpha)\n",
    "    elif model_name == 'LinearSVC':\n",
    "        model = LinearSVC(C=alpha)\n",
    "    elif model_name == 'LogisticRegression':\n",
    "        model = LogisticRegression(C=alpha)\n",
    "\n",
    "    train_X = vec.transform(train_data)\n",
    "    model.fit(train_X, train_labels)   \n",
    "    \n",
    "    if valid: \n",
    "        valid_X = vec.transform(valid_data)\n",
    "        pred = model.predict(valid_X)\n",
    "        metr = metrics.accuracy_score(valid_labels, pred)\n",
    "    else:\n",
    "        test_X = vec.transform(test_data)\n",
    "        pred = model.predict(test_X)\n",
    "        metr = metrics.accuracy_score(test_labels, pred)\n",
    "    \n",
    "    print(\"N of topwords:\", n, \"alpha:\", alpha, \"accuracy:\", metr)\n",
    "    return metr, vec, model"
   ]
  },
  {
   "cell_type": "markdown",
   "metadata": {},
   "source": [
    "<a id='5.2'></a>\n",
    "### 5.2 Fine-tuning MultinomialNB"
   ]
  },
  {
   "cell_type": "code",
   "execution_count": 83,
   "metadata": {},
   "outputs": [
    {
     "name": "stdout",
     "output_type": "stream",
     "text": [
      "N of topwords: 100000 alpha: 1.0 accuracy: 0.8542315405057307\n",
      "N of topwords: 200000 alpha: 1.0 accuracy: 0.8564487992565661\n",
      "N of topwords: 300000 alpha: 1.0 accuracy: 0.8567585633467565\n",
      "N of topwords: 400000 alpha: 1.0 accuracy: 0.8571335409296184\n",
      "N of topwords: 500000 alpha: 1.0 accuracy: 0.8572639679149616\n",
      "N of topwords: 600000 alpha: 1.0 accuracy: 0.8576552488709914\n",
      "N of topwords: 700000 alpha: 1.0 accuracy: 0.8577856758563347\n",
      "N of topwords: 800000 alpha: 1.0 accuracy: 0.85789979946851\n",
      "N of topwords: 900000 alpha: 1.0 accuracy: 0.857916102841678\n",
      "N of topwords: 1000000 alpha: 1.0 accuracy: 0.8579650129611817\n",
      "N of topwords: 1100000 alpha: 1.0 accuracy: 0.8579650129611817\n",
      "N of topwords: 1200000 alpha: 1.0 accuracy: 0.8578182826026705\n",
      "N of topwords: 1300000 alpha: 1.0 accuracy: 0.8578834960953421\n",
      "N of topwords: 1400000 alpha: 1.0 accuracy: 0.8578182826026705\n",
      "N of topwords: 1500000 alpha: 1.0 accuracy: 0.85789979946851\n",
      "N of topwords: 1600000 alpha: 1.0 accuracy: 0.857916102841678\n",
      "N of topwords: 1700000 alpha: 1.0 accuracy: 0.8577856758563347\n",
      "N of topwords: 1800000 alpha: 1.0 accuracy: 0.8577041589904951\n",
      "N of topwords: 1900000 alpha: 1.0 accuracy: 0.8578019792295026\n",
      "N of topwords: 2000000 alpha: 1.0 accuracy: 0.8577693724831668\n"
     ]
    }
   ],
   "source": [
    "#MultinomialNB\n",
    "possible_n = [100000 * i for i in range(1, 21)]\n",
    "\n",
    "mnb_tfidf_accuracies = []\n",
    "\n",
    "for i, n in enumerate(possible_n):\n",
    "    metr = train_with_n_topwords(n, model_name='MultinomialNB')[0]\n",
    "    mnb_tfidf_accuracies.append([n, metr])"
   ]
  },
  {
   "cell_type": "code",
   "execution_count": 84,
   "metadata": {},
   "outputs": [
    {
     "data": {
      "image/png": "[encoded data removed]",
      "text/plain": [
       "<Figure size 720x432 with 1 Axes>"
      ]
     },
     "metadata": {},
     "output_type": "display_data"
    }
   ],
   "source": [
    "mnb_accu = pd.DataFrame(mnb_tfidf_accuracies, columns=['topwords', 'accuracy'])\n",
    "fig = plt.figure(figsize=(10,6))\n",
    "plt.plot(mnb_accu.topwords, mnb_accu.accuracy, label='MultinomialNB')\n",
    "#plt.legend()\n",
    "plt.xlabel(\"Number of features\")\n",
    "plt.ylabel(\"Accuracy\")\n",
    "plt.title(\"Multinomial Naive Bayes Model\")\n",
    "fig.savefig(\"model_mnb_large_100k.png\")"
   ]
  },
  {
   "cell_type": "code",
   "execution_count": 85,
   "metadata": {
    "scrolled": true
   },
   "outputs": [
    {
     "data": {
      "text/html": [
       "<div>\n",
       "<style scoped>\n",
       "    .dataframe tbody tr th:only-of-type {\n",
       "        vertical-align: middle;\n",
       "    }\n",
       "\n",
       "    .dataframe tbody tr th {\n",
       "        vertical-align: top;\n",
       "    }\n",
       "\n",
       "    .dataframe thead th {\n",
       "        text-align: right;\n",
       "    }\n",
       "</style>\n",
       "<table border=\"1\" class=\"dataframe\">\n",
       "  <thead>\n",
       "    <tr style=\"text-align: right;\">\n",
       "      <th></th>\n",
       "      <th>topwords</th>\n",
       "      <th>accuracy</th>\n",
       "    </tr>\n",
       "  </thead>\n",
       "  <tbody>\n",
       "    <tr>\n",
       "      <th>9</th>\n",
       "      <td>1000000</td>\n",
       "      <td>0.857965</td>\n",
       "    </tr>\n",
       "    <tr>\n",
       "      <th>10</th>\n",
       "      <td>1100000</td>\n",
       "      <td>0.857965</td>\n",
       "    </tr>\n",
       "  </tbody>\n",
       "</table>\n",
       "</div>"
      ],
      "text/plain": [
       "    topwords  accuracy\n",
       "9    1000000  0.857965\n",
       "10   1100000  0.857965"
      ]
     },
     "execution_count": 85,
     "metadata": {},
     "output_type": "execute_result"
    }
   ],
   "source": [
    "mnb_accu[mnb_accu.accuracy==max(mnb_accu.accuracy)]"
   ]
  },
  {
   "cell_type": "code",
   "execution_count": 87,
   "metadata": {},
   "outputs": [
    {
     "data": {
      "text/plain": [
       "1000000"
      ]
     },
     "execution_count": 87,
     "metadata": {},
     "output_type": "execute_result"
    }
   ],
   "source": [
    "best_n_topwords_mnb = mnb_accu[mnb_accu.accuracy==max(mnb_accu.accuracy)].iloc[0,0]\n",
    "best_n_topwords_mnb"
   ]
  },
  {
   "cell_type": "markdown",
   "metadata": {},
   "source": [
    "<a id='5.3'></a>\n",
    "### 5.3 Fine-tuning LogisticRegression"
   ]
  },
  {
   "cell_type": "code",
   "execution_count": 88,
   "metadata": {},
   "outputs": [
    {
     "name": "stdout",
     "output_type": "stream",
     "text": [
      "N of topwords: 100000 alpha: 1.0 accuracy: 0.8695730146567324\n",
      "N of topwords: 200000 alpha: 1.0 accuracy: 0.8695567112835646\n",
      "N of topwords: 300000 alpha: 1.0 accuracy: 0.8695567112835646\n",
      "N of topwords: 400000 alpha: 1.0 accuracy: 0.8696219247762362\n",
      "N of topwords: 500000 alpha: 1.0 accuracy: 0.8697034416420757\n",
      "N of topwords: 600000 alpha: 1.0 accuracy: 0.8695404079103967\n",
      "N of topwords: 700000 alpha: 1.0 accuracy: 0.869475194417725\n",
      "N of topwords: 800000 alpha: 1.0 accuracy: 0.869475194417725\n",
      "N of topwords: 900000 alpha: 1.0 accuracy: 0.8694262842982213\n",
      "N of topwords: 1000000 alpha: 1.0 accuracy: 0.8694262842982213\n",
      "N of topwords: 1100000 alpha: 1.0 accuracy: 0.8692958573128781\n",
      "N of topwords: 1200000 alpha: 1.0 accuracy: 0.8692795539397101\n",
      "N of topwords: 1300000 alpha: 1.0 accuracy: 0.8692795539397101\n",
      "N of topwords: 1400000 alpha: 1.0 accuracy: 0.8691817337007027\n",
      "N of topwords: 1500000 alpha: 1.0 accuracy: 0.8691654303275348\n",
      "N of topwords: 1600000 alpha: 1.0 accuracy: 0.8691002168348632\n",
      "N of topwords: 1700000 alpha: 1.0 accuracy: 0.8691165202080311\n",
      "N of topwords: 1800000 alpha: 1.0 accuracy: 0.8690676100885273\n",
      "N of topwords: 1900000 alpha: 1.0 accuracy: 0.8689697898495199\n",
      "N of topwords: 2000000 alpha: 1.0 accuracy: 0.8688719696105124\n"
     ]
    }
   ],
   "source": [
    "# Logistic\n",
    "possible_n = [100000 * i for i in range(1, 21)]\n",
    "\n",
    "lgr_tfidf_accuracies = []\n",
    "\n",
    "for i, n in enumerate(possible_n):\n",
    "    metr = train_with_n_topwords(n, model_name=\"LogisticRegression\")[0]\n",
    "    lgr_tfidf_accuracies.append([n, metr])"
   ]
  },
  {
   "cell_type": "code",
   "execution_count": 89,
   "metadata": {},
   "outputs": [
    {
     "data": {
      "image/png": "[encoded data removed]",
      "text/plain": [
       "<Figure size 720x432 with 1 Axes>"
      ]
     },
     "metadata": {},
     "output_type": "display_data"
    }
   ],
   "source": [
    "lgr_accu = pd.DataFrame(lgr_tfidf_accuracies, columns=['topwords', 'accuracy'])\n",
    "fig = plt.figure(figsize=(10,6))\n",
    "plt.plot(lgr_accu.topwords, lgr_accu.accuracy, label='LogisticRegression')\n",
    "#plt.legend()\n",
    "plt.xlabel(\"Number of features\")\n",
    "plt.ylabel(\"Accuracy\")\n",
    "plt.title(\"Logistic Regression Model\")\n",
    "fig.savefig(\"model_lgr_large_100k.png\")"
   ]
  },
  {
   "cell_type": "code",
   "execution_count": 90,
   "metadata": {
    "scrolled": true
   },
   "outputs": [
    {
     "data": {
      "text/html": [
       "<div>\n",
       "<style scoped>\n",
       "    .dataframe tbody tr th:only-of-type {\n",
       "        vertical-align: middle;\n",
       "    }\n",
       "\n",
       "    .dataframe tbody tr th {\n",
       "        vertical-align: top;\n",
       "    }\n",
       "\n",
       "    .dataframe thead th {\n",
       "        text-align: right;\n",
       "    }\n",
       "</style>\n",
       "<table border=\"1\" class=\"dataframe\">\n",
       "  <thead>\n",
       "    <tr style=\"text-align: right;\">\n",
       "      <th></th>\n",
       "      <th>topwords</th>\n",
       "      <th>accuracy</th>\n",
       "    </tr>\n",
       "  </thead>\n",
       "  <tbody>\n",
       "    <tr>\n",
       "      <th>4</th>\n",
       "      <td>500000</td>\n",
       "      <td>0.869703</td>\n",
       "    </tr>\n",
       "  </tbody>\n",
       "</table>\n",
       "</div>"
      ],
      "text/plain": [
       "   topwords  accuracy\n",
       "4    500000  0.869703"
      ]
     },
     "execution_count": 90,
     "metadata": {},
     "output_type": "execute_result"
    }
   ],
   "source": [
    "lgr_accu[lgr_accu.accuracy==max(lgr_accu.accuracy)]"
   ]
  },
  {
   "cell_type": "code",
   "execution_count": 91,
   "metadata": {},
   "outputs": [
    {
     "data": {
      "text/plain": [
       "500000"
      ]
     },
     "execution_count": 91,
     "metadata": {},
     "output_type": "execute_result"
    }
   ],
   "source": [
    "best_n_topwords_lgr = lgr_accu[lgr_accu.accuracy==max(lgr_accu.accuracy)].iloc[0,0]\n",
    "best_n_topwords_lgr"
   ]
  },
  {
   "cell_type": "markdown",
   "metadata": {},
   "source": [
    "<a id='5.4'></a>\n",
    "### 5.4 Fine-tuning LinearSVC"
   ]
  },
  {
   "cell_type": "code",
   "execution_count": 92,
   "metadata": {},
   "outputs": [
    {
     "name": "stdout",
     "output_type": "stream",
     "text": [
      "N of topwords: 100000 alpha: 1.0 accuracy: 0.8726217454391314\n",
      "N of topwords: 200000 alpha: 1.0 accuracy: 0.8736814646950454\n",
      "N of topwords: 300000 alpha: 1.0 accuracy: 0.8736325545755417\n",
      "N of topwords: 400000 alpha: 1.0 accuracy: 0.8733227904853514\n",
      "N of topwords: 500000 alpha: 1.0 accuracy: 0.8736651613218775\n",
      "N of topwords: 600000 alpha: 1.0 accuracy: 0.873583644456038\n",
      "N of topwords: 700000 alpha: 1.0 accuracy: 0.8738771051730603\n",
      "N of topwords: 800000 alpha: 1.0 accuracy: 0.8740075321584035\n",
      "N of topwords: 900000 alpha: 1.0 accuracy: 0.874105352397411\n",
      "N of topwords: 1000000 alpha: 1.0 accuracy: 0.8741542625169147\n",
      "N of topwords: 1100000 alpha: 1.0 accuracy: 0.8743172962485939\n",
      "N of topwords: 1200000 alpha: 1.0 accuracy: 0.8743172962485939\n",
      "N of topwords: 1300000 alpha: 1.0 accuracy: 0.8744803299802729\n",
      "N of topwords: 1400000 alpha: 1.0 accuracy: 0.8745944535924483\n",
      "N of topwords: 1500000 alpha: 1.0 accuracy: 0.8744803299802729\n",
      "N of topwords: 1600000 alpha: 1.0 accuracy: 0.8744151164876013\n",
      "N of topwords: 1700000 alpha: 1.0 accuracy: 0.8746107569656162\n",
      "N of topwords: 1800000 alpha: 1.0 accuracy: 0.8744803299802729\n",
      "N of topwords: 1900000 alpha: 1.0 accuracy: 0.8745129367266087\n",
      "N of topwords: 2000000 alpha: 1.0 accuracy: 0.8744966333534409\n"
     ]
    }
   ],
   "source": [
    "# Linear SVC\n",
    "possible_n = [100000 * i for i in range(1, 21)]\n",
    "\n",
    "svc_tfidf_accuracies = []\n",
    "\n",
    "for i, n in enumerate(possible_n):\n",
    "    metr = train_with_n_topwords(n, model_name=\"LinearSVC\")[0]\n",
    "    svc_tfidf_accuracies.append([n, metr])"
   ]
  },
  {
   "cell_type": "code",
   "execution_count": 93,
   "metadata": {},
   "outputs": [
    {
     "data": {
      "image/png": "[encoded data removed]",
      "text/plain": [
       "<Figure size 720x432 with 1 Axes>"
      ]
     },
     "metadata": {},
     "output_type": "display_data"
    }
   ],
   "source": [
    "svc_accu = pd.DataFrame(svc_tfidf_accuracies, columns=['topwords', 'accuracy'])\n",
    "fig = plt.figure(figsize=(10,6))\n",
    "plt.plot(svc_accu.topwords, svc_accu.accuracy, label='LinearSCV')\n",
    "#plt.legend()\n",
    "plt.xlabel(\"Number of features\")\n",
    "plt.ylabel(\"Accuracy\")\n",
    "plt.title(\"Linear SVC Model\")\n",
    "fig.savefig(\"model_svc_large_100k.png\")"
   ]
  },
  {
   "cell_type": "code",
   "execution_count": 94,
   "metadata": {
    "scrolled": false
   },
   "outputs": [
    {
     "data": {
      "text/html": [
       "<div>\n",
       "<style scoped>\n",
       "    .dataframe tbody tr th:only-of-type {\n",
       "        vertical-align: middle;\n",
       "    }\n",
       "\n",
       "    .dataframe tbody tr th {\n",
       "        vertical-align: top;\n",
       "    }\n",
       "\n",
       "    .dataframe thead th {\n",
       "        text-align: right;\n",
       "    }\n",
       "</style>\n",
       "<table border=\"1\" class=\"dataframe\">\n",
       "  <thead>\n",
       "    <tr style=\"text-align: right;\">\n",
       "      <th></th>\n",
       "      <th>topwords</th>\n",
       "      <th>accuracy</th>\n",
       "    </tr>\n",
       "  </thead>\n",
       "  <tbody>\n",
       "    <tr>\n",
       "      <th>16</th>\n",
       "      <td>1700000</td>\n",
       "      <td>0.874611</td>\n",
       "    </tr>\n",
       "  </tbody>\n",
       "</table>\n",
       "</div>"
      ],
      "text/plain": [
       "    topwords  accuracy\n",
       "16   1700000  0.874611"
      ]
     },
     "execution_count": 94,
     "metadata": {},
     "output_type": "execute_result"
    }
   ],
   "source": [
    "svc_accu[svc_accu.accuracy==max(svc_accu.accuracy)]"
   ]
  },
  {
   "cell_type": "code",
   "execution_count": 95,
   "metadata": {},
   "outputs": [
    {
     "data": {
      "text/plain": [
       "1700000"
      ]
     },
     "execution_count": 95,
     "metadata": {},
     "output_type": "execute_result"
    }
   ],
   "source": [
    "best_n_topwords_svc = svc_accu[svc_accu.accuracy==max(svc_accu.accuracy)].iloc[0,0]\n",
    "best_n_topwords_svc"
   ]
  },
  {
   "cell_type": "markdown",
   "metadata": {},
   "source": [
    "<a id='5.5'></a>\n",
    "### 5.5 Summary of the three models"
   ]
  },
  {
   "cell_type": "code",
   "execution_count": 96,
   "metadata": {
    "scrolled": false
   },
   "outputs": [
    {
     "data": {
      "image/png": "[encoded data removed]",
      "text/plain": [
       "<Figure size 720x432 with 1 Axes>"
      ]
     },
     "metadata": {},
     "output_type": "display_data"
    }
   ],
   "source": [
    "fig = plt.figure(figsize=(10,6))\n",
    "plt.plot(mnb_accu.topwords, mnb_accu.accuracy, label='MultinomialNB')\n",
    "plt.plot(lgr_accu.topwords, lgr_accu.accuracy, label='LogisticRegression')\n",
    "plt.plot(svc_accu.topwords, svc_accu.accuracy, label='LinearSVC')\n",
    "plt.legend()\n",
    "plt.xlabel(\"Number of features\")\n",
    "plt.ylabel(\"Accuracy\")\n",
    "plt.title(\"MultinomialNB vs. LinearSVC vs. LogisticRegression models\")\n",
    "fig.savefig(\"model_all3_large_100k.png\")"
   ]
  },
  {
   "cell_type": "markdown",
   "metadata": {},
   "source": [
    "A plot of **Model Accuracy vs Number of Features** is shown above. It clearly shows that LinearSVC has the highest accuracy consistently, with LogisticRegression the less, and MultinomialNB the least. The following table summarizes the best number of features and the model accuracy on validation set.\n",
    "\n",
    "|                          \t| MultinomialNB  \t| LogisticRegression  \t| LinearSVC  \t|\n",
    "|---\t                       |---\t             |---\t                  |---\t         |\n",
    "|Best number of features    | 1,000,000  \t    | 500,000   \t          | 1,700,000  \t|\n",
    "|Accuracy on validation set | 0.8580          | 0.8697              \t| 0.8746     \t|"
   ]
  },
  {
   "cell_type": "markdown",
   "metadata": {},
   "source": [
    "<a id='6'></a>\n",
    "## 6. Grid Search for Parameter Tuning"
   ]
  },
  {
   "cell_type": "markdown",
   "metadata": {},
   "source": [
    "To get a better accuaracy, we can perform grid search on the number of features and the penalty parameter at the same time.\n",
    "\n",
    "As a demonstration, we only perform the search on LinearSVC model."
   ]
  },
  {
   "cell_type": "markdown",
   "metadata": {},
   "source": [
    "<a id='6.1'></a>\n",
    "### 6.1 Grid Search on MultinomialNB"
   ]
  },
  {
   "cell_type": "code",
   "execution_count": null,
   "metadata": {},
   "outputs": [],
   "source": [
    "# MultinomialNB\n",
    "mnb_grid_tfidf_accuracies = []\n",
    "\n",
    "for n in [100000 * i for i in range(1, 21)]:\n",
    "    for alpha in [0.1 * j for j in range(1, 11)]:\n",
    "        metr = train_with_n_topwords(n, model_name=\"MultinomialNB\", alpha=alpha)[0]  \n",
    "        mnb_grid_tfidf_accuracies.append([n, alpha, metr])"
   ]
  },
  {
   "cell_type": "code",
   "execution_count": null,
   "metadata": {},
   "outputs": [],
   "source": [
    "mnb_grid_accu = pd.DataFrame(mnb_grid_tfidf_accuracies, columns=['topwords', 'alpha', 'accuracy'])\n",
    "mnb_grid_accu[mnb_grid_accu.accuracy==max(mnb_grid_accu.accuracy)]"
   ]
  },
  {
   "cell_type": "markdown",
   "metadata": {},
   "source": [
    "<a id='6.2'></a>\n",
    "### 6.2 Grid Search on LogisticRegression"
   ]
  },
  {
   "cell_type": "code",
   "execution_count": null,
   "metadata": {},
   "outputs": [],
   "source": [
    "# Logistic\n",
    "lgr_grid_tfidf_accuracies = []\n",
    "\n",
    "for n in [100000 * i for i in range(1, 21)]:\n",
    "    for alpha in [0.1 * j for j in range(1, 11)]:\n",
    "        metr = train_with_n_topwords(n, model_name=\"LogisticRegression\", alpha=alpha)[0]  \n",
    "        lgr_grid_tfidf_accuracies.append([n, alpha, metr])"
   ]
  },
  {
   "cell_type": "code",
   "execution_count": null,
   "metadata": {},
   "outputs": [],
   "source": [
    "lgr_grid_accu = pd.DataFrame(lgr_grid_tfidf_accuracies, columns=['topwords', 'C', 'accuracy'])\n",
    "lgr_grid_accu[lgr_grid_accu.accuracy==max(lgr_grid_accu.accuracy)]"
   ]
  },
  {
   "cell_type": "markdown",
   "metadata": {},
   "source": [
    "<a id='6.3'></a>\n",
    "### 6.3 Grid Search on LinearSVC"
   ]
  },
  {
   "cell_type": "markdown",
   "metadata": {},
   "source": [
    "As a simply demonstration and in order to save the training time, we select only the best number of features (based on penalty parameter C=1.0), and tune the penalty parameter C. \n",
    "* Note: To get a better accuracy, we should tune the number of features and the penalty parameter at the same time."
   ]
  },
  {
   "cell_type": "code",
   "execution_count": 150,
   "metadata": {},
   "outputs": [
    {
     "name": "stdout",
     "output_type": "stream",
     "text": [
      "N of topwords: 1700000 alpha: 0.1 accuracy: 0.8704207900614637\n",
      "N of topwords: 1700000 alpha: 0.2 accuracy: 0.8755074424898511\n",
      "N of topwords: 1700000 alpha: 0.30000000000000004 accuracy: 0.876241094282407\n",
      "N of topwords: 1700000 alpha: 0.4 accuracy: 0.8763552178945824\n",
      "N of topwords: 1700000 alpha: 0.5 accuracy: 0.8759639369385526\n",
      "N of topwords: 1700000 alpha: 0.6000000000000001 accuracy: 0.8754911391166832\n",
      "N of topwords: 1700000 alpha: 0.7000000000000001 accuracy: 0.8753444087581721\n",
      "N of topwords: 1700000 alpha: 0.8 accuracy: 0.8750998581606534\n",
      "N of topwords: 1700000 alpha: 0.9 accuracy: 0.8748390041899669\n",
      "N of topwords: 1700000 alpha: 1.0 accuracy: 0.8746107569656162\n"
     ]
    }
   ],
   "source": [
    "# Linear SVC\n",
    "svc_grid_tfidf_accuracies = []\n",
    "\n",
    "for n in [best_n_topwords_svc]:\n",
    "    for alpha in [0.1 * j for j in range(1, 11)]:\n",
    "        metr = train_with_n_topwords(n, model_name=\"LinearSVC\", alpha=alpha)[0]  \n",
    "        svc_grid_tfidf_accuracies.append([n, alpha, metr])"
   ]
  },
  {
   "cell_type": "code",
   "execution_count": 151,
   "metadata": {},
   "outputs": [
    {
     "data": {
      "text/html": [
       "<div>\n",
       "<style scoped>\n",
       "    .dataframe tbody tr th:only-of-type {\n",
       "        vertical-align: middle;\n",
       "    }\n",
       "\n",
       "    .dataframe tbody tr th {\n",
       "        vertical-align: top;\n",
       "    }\n",
       "\n",
       "    .dataframe thead th {\n",
       "        text-align: right;\n",
       "    }\n",
       "</style>\n",
       "<table border=\"1\" class=\"dataframe\">\n",
       "  <thead>\n",
       "    <tr style=\"text-align: right;\">\n",
       "      <th></th>\n",
       "      <th>topwords</th>\n",
       "      <th>C</th>\n",
       "      <th>accuracy</th>\n",
       "    </tr>\n",
       "  </thead>\n",
       "  <tbody>\n",
       "    <tr>\n",
       "      <th>3</th>\n",
       "      <td>1700000</td>\n",
       "      <td>0.4</td>\n",
       "      <td>0.876355</td>\n",
       "    </tr>\n",
       "  </tbody>\n",
       "</table>\n",
       "</div>"
      ],
      "text/plain": [
       "   topwords    C  accuracy\n",
       "3   1700000  0.4  0.876355"
      ]
     },
     "execution_count": 151,
     "metadata": {},
     "output_type": "execute_result"
    }
   ],
   "source": [
    "svc_grid_accu = pd.DataFrame(svc_grid_tfidf_accuracies, columns=['topwords', 'C', 'accuracy'])\n",
    "svc_grid_accu[svc_grid_accu.accuracy==max(svc_grid_accu.accuracy)]"
   ]
  },
  {
   "cell_type": "code",
   "execution_count": 156,
   "metadata": {},
   "outputs": [
    {
     "data": {
      "text/plain": [
       "0.4"
      ]
     },
     "execution_count": 156,
     "metadata": {},
     "output_type": "execute_result"
    }
   ],
   "source": [
    "best_alpha_svc = svc_grid_accu[svc_grid_accu.accuracy==max(svc_grid_accu.accuracy)].iloc[0,1]\n",
    "best_alpha_svc"
   ]
  },
  {
   "cell_type": "markdown",
   "metadata": {},
   "source": [
    "<a id='7'></a>\n",
    "## 7. Model Accuracy on the Test Set"
   ]
  },
  {
   "cell_type": "markdown",
   "metadata": {},
   "source": [
    "#### Summary: The model accuracy on testing set\n",
    "\n",
    "|                          \t| MultinomialNB  \t| LogisticRegression  \t| LinearSVC  \t|LinearSVC(with penalty parameter 0.4)  \t|\n",
    "|---\t                       |---\t             |---\t                  |---\t         |\n",
    "|Best number of features    | 1,000,000  \t    | 500,000   \t          | 1,700,000  \t| 1,700,000  \t|\n",
    "|Accuracy on testing set    | 0.8585          | 0.8682              \t| 0.8730     \t|0.8742 |"
   ]
  },
  {
   "cell_type": "markdown",
   "metadata": {},
   "source": [
    "<a id='7.1'></a>\n",
    "### 7.1 MultinomialNB model accuracy"
   ]
  },
  {
   "cell_type": "code",
   "execution_count": 109,
   "metadata": {
    "scrolled": false
   },
   "outputs": [
    {
     "name": "stdout",
     "output_type": "stream",
     "text": [
      "N of topwords: 1000000 alpha: 1.0 accuracy: 0.8584867209025547\n"
     ]
    }
   ],
   "source": [
    "# MultinomialNB model accuracy based on the default model penalty parameter alpha=1.0\n",
    "mnb_accuarcy, mnb_vec, mnb_model = train_with_n_topwords(n=best_n_topwords_mnb, model_name=\"MultinomialNB\", valid=False)"
   ]
  },
  {
   "cell_type": "markdown",
   "metadata": {},
   "source": [
    "<a id='7.2'></a>\n",
    "### 7.2 LogisticRegression model accuracy"
   ]
  },
  {
   "cell_type": "code",
   "execution_count": 108,
   "metadata": {},
   "outputs": [
    {
     "name": "stdout",
     "output_type": "stream",
     "text": [
      "N of topwords: 500000 alpha: 1.0 accuracy: 0.8682035313106282\n"
     ]
    }
   ],
   "source": [
    "# LogisticRegression model accuracy based on the default model penalty parameter C=1.0\n",
    "lgr_accuarcy, lgr_vec, lgr_model = train_with_n_topwords(n=best_n_topwords_lgr, model_name=\"LogisticRegression\", valid=False)"
   ]
  },
  {
   "cell_type": "markdown",
   "metadata": {},
   "source": [
    "<a id='7.3'></a>\n",
    "### 7.3 LinearSVC model accuracy"
   ]
  },
  {
   "cell_type": "code",
   "execution_count": 107,
   "metadata": {},
   "outputs": [
    {
     "name": "stdout",
     "output_type": "stream",
     "text": [
      "N of topwords: 1700000 alpha: 1.0 accuracy: 0.8729804196488253\n"
     ]
    }
   ],
   "source": [
    "# LinearSVC model accuracy based on the default model penalty parameter C=1.0\n",
    "svc_accuarcy, svc_vec, svc_model = train_with_n_topwords(n=best_n_topwords_svc, model_name=\"LinearSVC\", valid=False)"
   ]
  },
  {
   "cell_type": "code",
   "execution_count": 157,
   "metadata": {},
   "outputs": [
    {
     "name": "stdout",
     "output_type": "stream",
     "text": [
      "N of topwords: 1700000 alpha: 0.4 accuracy: 0.8742357793827543\n"
     ]
    }
   ],
   "source": [
    "# LinearSVC model accuracy based on the tuned model penalty parameter C=0.4\n",
    "svc_accuarcy, svc_vec, svc_model = train_with_n_topwords(n=best_n_topwords_svc, model_name=\"LinearSVC\", valid=False, \n",
    "                                                         alpha=best_alpha_svc)"
   ]
  },
  {
   "cell_type": "markdown",
   "metadata": {},
   "source": [
    "<a id='8'></a>\n",
    "## 8. Prediction on New Entries"
   ]
  },
  {
   "cell_type": "code",
   "execution_count": 113,
   "metadata": {},
   "outputs": [],
   "source": [
    "def predict_new(text, model_name='LinearSVC'):\n",
    "    \"\"\"\n",
    "    Predict the sentiment of the 'text'.\n",
    "    @params:\n",
    "        text                   - Required: the text to predict (Str)\n",
    "        model_name    - Optional: the model name('LinearSVC' | 'MultinomialNB' | 'LogisticRegression')\n",
    "    \"\"\"  \n",
    "\n",
    "    sentence = preprocessing(text, ngram=3)\n",
    "    if model_name == 'LinearSVC':\n",
    "        features = svc_vec.transform([text])\n",
    "        pred = svc_model.predict(features)        \n",
    "    elif model_name == 'MultinomialNB':\n",
    "        features = mnb_vec.transform([text])\n",
    "        pred = mnb_model.predict(features)\n",
    "    elif model_name == 'LogisticRegression':\n",
    "        features = lgr_vec.transform([text])\n",
    "        pred = lgr_model.predict(features)\n",
    "        \n",
    "    return pred[0]"
   ]
  },
  {
   "cell_type": "code",
   "execution_count": 117,
   "metadata": {},
   "outputs": [],
   "source": [
    "# An example of new review text\n",
    "review_text = 'This book seems to have some decent information, but it is full of typos and factual errors.'"
   ]
  },
  {
   "cell_type": "code",
   "execution_count": 119,
   "metadata": {},
   "outputs": [
    {
     "data": {
      "text/plain": [
       "'neg'"
      ]
     },
     "execution_count": 119,
     "metadata": {},
     "output_type": "execute_result"
    }
   ],
   "source": [
    "predict_new(review_text, model_name='MultinomialNB')"
   ]
  },
  {
   "cell_type": "code",
   "execution_count": 120,
   "metadata": {},
   "outputs": [
    {
     "data": {
      "text/plain": [
       "'neg'"
      ]
     },
     "execution_count": 120,
     "metadata": {},
     "output_type": "execute_result"
    }
   ],
   "source": [
    "predict_new(review_text, model_name='LogisticRegression')"
   ]
  },
  {
   "cell_type": "code",
   "execution_count": 118,
   "metadata": {},
   "outputs": [
    {
     "data": {
      "text/plain": [
       "'neg'"
      ]
     },
     "execution_count": 118,
     "metadata": {},
     "output_type": "execute_result"
    }
   ],
   "source": [
    "predict_new(review_text, model_name='LinearSVC')"
   ]
  },
  {
   "cell_type": "markdown",
   "metadata": {},
   "source": [
    "<a id='9'></a>\n",
    "## 9. Model Output"
   ]
  },
  {
   "cell_type": "markdown",
   "metadata": {},
   "source": [
    "Use module \"pickle\" to save the model for furture use."
   ]
  },
  {
   "cell_type": "code",
   "execution_count": 121,
   "metadata": {},
   "outputs": [],
   "source": [
    "# Save the vectorizer\n",
    "with open('tf_vec.pkl', 'wb') as pkl_file:\n",
    "    pickle.dump(svc_vec, pkl_file)"
   ]
  },
  {
   "cell_type": "code",
   "execution_count": 122,
   "metadata": {},
   "outputs": [],
   "source": [
    "# Save the model\n",
    "with open('svc_model.pkl', 'wb') as pkl_file:\n",
    "    pickle.dump(svc_model, pkl_file)"
   ]
  },
  {
   "cell_type": "markdown",
   "metadata": {},
   "source": [
    "<a id='10'></a>\n",
    "## 10. Web Application"
   ]
  },
  {
   "cell_type": "markdown",
   "metadata": {},
   "source": [
    "To demonstrate this project, we wrote a **flask** (a lightweight WSGI web application framework [[link]](http://flask.pocoo.org/)) \n",
    "web application. You can enter some review text and let the app analyze the sentiment of your entry. Have fun!\n",
    "\n",
    "[NLP Sentiment Analysis App](http://jesseqz.pythonanywhere.com/)"
   ]
  },
  {
   "cell_type": "markdown",
   "metadata": {},
   "source": [
    "<a id='11'></a>\n",
    "## 11. Ending Discussion "
   ]
  },
  {
   "cell_type": "markdown",
   "metadata": {},
   "source": [
    "\n",
    "Here are some ending throughs through this project.\n",
    "\n",
    "* We tried to remove stop words during the preprocessing stage but it decreased the model accuracy. We only used the stop words from nltk package, which may be the reason. A better way worth a try is to manually select stop words which are related to the current topic of the dataset. But since we have a very large dataset and we also perform tf-idf reweighting process, removing stop words may not be necessary. \n",
    "\n",
    "* To save tuning time, we did a pretty rough tuning on number of features with 100,000 number of features increment in each tuning. A finer tuning may get a better prediction power.\n",
    "\n",
    "* We can also tune the penalty parameter in each machine learning algorithm. We currently only use the default penalty parameter. By tuning this parameter, we may get a better prediction power.\n",
    "\n",
    "* We notice that under the current three machine learning models, parameter tuning may not provide significant accuracy boost. More advanced models such as Long short-term memory (LSTM) may be adopted. "
   ]
  }
 ],
 "metadata": {
  "celltoolbar": "Raw Cell Format",
  "kernelspec": {
   "display_name": "Python 3",
   "language": "python",
   "name": "python3"
  },
  "language_info": {
   "codemirror_mode": {
    "name": "ipython",
    "version": 3
   },
   "file_extension": ".py",
   "mimetype": "text/x-python",
   "name": "python",
   "nbconvert_exporter": "python",
   "pygments_lexer": "ipython3",
   "version": "3.6.4"
  }
 },
 "nbformat": 4,
 "nbformat_minor": 1
}
